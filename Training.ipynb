{
 "cells": [
  {
   "cell_type": "markdown",
   "metadata": {},
   "source": [
    "## PART-01"
   ]
  },
  {
   "cell_type": "markdown",
   "metadata": {},
   "source": [
    "### Denpendencies :\n",
    "\n"
   ]
  },
  {
   "cell_type": "code",
   "execution_count": 3,
   "metadata": {},
   "outputs": [],
   "source": [
    "import cv2\n",
    "import os\n",
    "import tensorflow as tf\n",
    "from tensorflow import keras\n",
    "from PIL import Image\n",
    "import numpy as np\n",
    "from sklearn.model_selection import train_test_split\n",
    "from keras.utils import normalize\n",
    "from keras.models import Sequential\n",
    "from keras.layers import Conv2D,MaxPooling2D\n",
    "from keras.layers import Activation,Dropout,Flatten,Dense\n",
    "from keras.utils import to_categorical\n",
    "\n",
    "\n"
   ]
  },
  {
   "cell_type": "code",
   "execution_count": 4,
   "metadata": {},
   "outputs": [
    {
     "name": "stdout",
     "output_type": "stream",
     "text": [
      "['no0.jpg', 'no1.jpg', 'no10.jpg', 'no100.jpg', 'no1000.jpg', 'no1001.jpg', 'no1002.jpg', 'no1003.jpg', 'no1004.jpg', 'no1005.jpg', 'no1006.jpg', 'no1007.jpg', 'no1008.jpg', 'no1009.jpg', 'no101.jpg', 'no1010.jpg', 'no1011.jpg', 'no1012.jpg', 'no1013.jpg', 'no1014.jpg', 'no1015.jpg', 'no1016.jpg', 'no1017.jpg', 'no1018.jpg', 'no1019.jpg', 'no102.jpg', 'no1020.jpg', 'no1021.jpg', 'no1022.jpg', 'no1023.jpg', 'no1024.jpg', 'no1025.jpg', 'no1026.jpg', 'no1027.jpg', 'no1028.jpg', 'no1029.jpg', 'no103.jpg', 'no1030.jpg', 'no1031.jpg', 'no1032.jpg', 'no1033.jpg', 'no1034.jpg', 'no1035.jpg', 'no1036.jpg', 'no1037.jpg', 'no1038.jpg', 'no1039.jpg', 'no104.jpg', 'no1040.jpg', 'no1041.jpg', 'no1042.jpg', 'no1043.jpg', 'no1044.jpg', 'no1045.jpg', 'no1046.jpg', 'no1047.jpg', 'no1048.jpg', 'no1049.jpg', 'no105.jpg', 'no1050.jpg', 'no1051.jpg', 'no1052.jpg', 'no1053.jpg', 'no1054.jpg', 'no1055.jpg', 'no1056.jpg', 'no1057.jpg', 'no1058.jpg', 'no1059.jpg', 'no106.jpg', 'no1060.jpg', 'no1061.jpg', 'no1062.jpg', 'no1063.jpg', 'no1064.jpg', 'no1065.jpg', 'no1066.jpg', 'no1067.jpg', 'no1068.jpg', 'no1069.jpg', 'no107.jpg', 'no1070.jpg', 'no1071.jpg', 'no1072.jpg', 'no1073.jpg', 'no1074.jpg', 'no1075.jpg', 'no1076.jpg', 'no1077.jpg', 'no1078.jpg', 'no1079.jpg', 'no108.jpg', 'no1080.jpg', 'no1081.jpg', 'no1082.jpg', 'no1083.jpg', 'no1084.jpg', 'no1085.jpg', 'no1086.jpg', 'no1087.jpg', 'no1088.jpg', 'no1089.jpg', 'no109.jpg', 'no1090.jpg', 'no1091.jpg', 'no1092.jpg', 'no1093.jpg', 'no1094.jpg', 'no1095.jpg', 'no1096.jpg', 'no1097.jpg', 'no1098.jpg', 'no1099.jpg', 'no11.jpg', 'no110.jpg', 'no1100.jpg', 'no1101.jpg', 'no1102.jpg', 'no1103.jpg', 'no1104.jpg', 'no1105.jpg', 'no1106.jpg', 'no1107.jpg', 'no1108.jpg', 'no1109.jpg', 'no111.jpg', 'no1110.jpg', 'no1111.jpg', 'no1112.jpg', 'no1113.jpg', 'no1114.jpg', 'no1115.jpg', 'no1116.jpg', 'no1117.jpg', 'no1118.jpg', 'no1119.jpg', 'no112.jpg', 'no1120.jpg', 'no1121.jpg', 'no1122.jpg', 'no1123.jpg', 'no1124.jpg', 'no1125.jpg', 'no1126.jpg', 'no1127.jpg', 'no1128.jpg', 'no1129.jpg', 'no113.jpg', 'no1130.jpg', 'no1131.jpg', 'no1132.jpg', 'no1133.jpg', 'no1134.jpg', 'no1135.jpg', 'no1136.jpg', 'no1137.jpg', 'no1138.jpg', 'no1139.jpg', 'no114.jpg', 'no1140.jpg', 'no1141.jpg', 'no1142.jpg', 'no1143.jpg', 'no1144.jpg', 'no1145.jpg', 'no1146.jpg', 'no1147.jpg', 'no1148.jpg', 'no1149.jpg', 'no115.jpg', 'no1150.jpg', 'no1151.jpg', 'no1152.jpg', 'no1153.jpg', 'no1154.jpg', 'no1155.jpg', 'no1156.jpg', 'no1157.jpg', 'no1158.jpg', 'no1159.jpg', 'no116.jpg', 'no1160.jpg', 'no1161.jpg', 'no1162.jpg', 'no1163.jpg', 'no1164.jpg', 'no1165.jpg', 'no1166.jpg', 'no1167.jpg', 'no1168.jpg', 'no1169.jpg', 'no117.jpg', 'no1170.jpg', 'no1171.jpg', 'no1172.jpg', 'no1173.jpg', 'no1174.jpg', 'no1175.jpg', 'no1176.jpg', 'no1177.jpg', 'no1178.jpg', 'no1179.jpg', 'no118.jpg', 'no1180.jpg', 'no1181.jpg', 'no1182.jpg', 'no1183.jpg', 'no1184.jpg', 'no1185.jpg', 'no1186.jpg', 'no1187.jpg', 'no1188.jpg', 'no1189.jpg', 'no119.jpg', 'no1190.jpg', 'no1191.jpg', 'no1192.jpg', 'no1193.jpg', 'no1194.jpg', 'no1195.jpg', 'no1196.jpg', 'no1197.jpg', 'no1198.jpg', 'no1199.jpg', 'No12.jpg', 'no120.jpg', 'no1200.jpg', 'no1201.jpg', 'no1202.jpg', 'no1203.jpg', 'no1204.jpg', 'no1205.jpg', 'no1206.jpg', 'no1207.jpg', 'no1208.jpg', 'no1209.jpg', 'no121.jpg', 'no1210.jpg', 'no1211.jpg', 'no1212.jpg', 'no1213.jpg', 'no1214.jpg', 'no1215.jpg', 'no1216.jpg', 'no1217.jpg', 'no1218.jpg', 'no1219.jpg', 'no122.jpg', 'no1220.jpg', 'no1221.jpg', 'no1222.jpg', 'no1223.jpg', 'no1224.jpg', 'no1225.jpg', 'no1226.jpg', 'no1227.jpg', 'no1228.jpg', 'no1229.jpg', 'no123.jpg', 'no1230.jpg', 'no1231.jpg', 'no1232.jpg', 'no1233.jpg', 'no1234.jpg', 'no1235.jpg', 'no1236.jpg', 'no1237.jpg', 'no1238.jpg', 'no1239.jpg', 'no124.jpg', 'no1240.jpg', 'no1241.jpg', 'no1242.jpg', 'no1243.jpg', 'no1244.jpg', 'no1245.jpg', 'no1246.jpg', 'no1247.jpg', 'no1248.jpg', 'no1249.jpg', 'no125.jpg', 'no1250.jpg', 'no1251.jpg', 'no1252.jpg', 'no1253.jpg', 'no1254.jpg', 'no1255.jpg', 'no1256.jpg', 'no1257.jpg', 'no1258.jpg', 'no1259.jpg', 'no126.jpg', 'no1260.jpg', 'no1261.jpg', 'no1262.jpg', 'no1263.jpg', 'no1264.jpg', 'no1265.jpg', 'no1266.jpg', 'no1267.jpg', 'no1268.jpg', 'no1269.jpg', 'no127.jpg', 'no1270.jpg', 'no1271.jpg', 'no1272.jpg', 'no1273.jpg', 'no1274.jpg', 'no1275.jpg', 'no1276.jpg', 'no1277.jpg', 'no1278.jpg', 'no1279.jpg', 'no128.jpg', 'no1280.jpg', 'no1281.jpg', 'no1282.jpg', 'no1283.jpg', 'no1284.jpg', 'no1285.jpg', 'no1286.jpg', 'no1287.jpg', 'no1288.jpg', 'no1289.jpg', 'no129.jpg', 'no1290.jpg', 'no1291.jpg', 'no1292.jpg', 'no1293.jpg', 'no1294.jpg', 'no1295.jpg', 'no1296.jpg', 'no1297.jpg', 'no1298.jpg', 'no1299.jpg', 'No13.jpg', 'no130.jpg', 'no1300.jpg', 'no1301.jpg', 'no1302.jpg', 'no1303.jpg', 'no1304.jpg', 'no1305.jpg', 'no1306.jpg', 'no1307.jpg', 'no1308.jpg', 'no1309.jpg', 'no131.jpg', 'no1310.jpg', 'no1311.jpg', 'no1312.jpg', 'no1313.jpg', 'no1314.jpg', 'no1315.jpg', 'no1316.jpg', 'no1317.jpg', 'no1318.jpg', 'no1319.jpg', 'no132.jpg', 'no1320.jpg', 'no1321.jpg', 'no1322.jpg', 'no1323.jpg', 'no1324.jpg', 'no1325.jpg', 'no1326.jpg', 'no1327.jpg', 'no1328.jpg', 'no1329.jpg', 'no133.jpg', 'no1330.jpg', 'no1331.jpg', 'no1332.jpg', 'no1333.jpg', 'no1334.jpg', 'no1335.jpg', 'no1336.jpg', 'no1337.jpg', 'no1338.jpg', 'no1339.jpg', 'no134.jpg', 'no1340.jpg', 'no1341.jpg', 'no1342.jpg', 'no1343.jpg', 'no1344.jpg', 'no1345.jpg', 'no1346.jpg', 'no1347.jpg', 'no1348.jpg', 'no1349.jpg', 'no135.jpg', 'no1350.jpg', 'no1351.jpg', 'no1352.jpg', 'no1353.jpg', 'no1354.jpg', 'no1355.jpg', 'no1356.jpg', 'no1357.jpg', 'no1358.jpg', 'no1359.jpg', 'no136.jpg', 'no1360.jpg', 'no1361.jpg', 'no1362.jpg', 'no1363.jpg', 'no1364.jpg', 'no1365.jpg', 'no1366.jpg', 'no1367.jpg', 'no1368.jpg', 'no1369.jpg', 'no137.jpg', 'no1370.jpg', 'no1371.jpg', 'no1372.jpg', 'no1373.jpg', 'no1374.jpg', 'no1375.jpg', 'no1376.jpg', 'no1377.jpg', 'no1378.jpg', 'no1379.jpg', 'no138.jpg', 'no1380.jpg', 'no1381.jpg', 'no1382.jpg', 'no1383.jpg', 'no1384.jpg', 'no1385.jpg', 'no1386.jpg', 'no1387.jpg', 'no1388.jpg', 'no1389.jpg', 'no139.jpg', 'no1390.jpg', 'no1391.jpg', 'no1392.jpg', 'no1393.jpg', 'no1394.jpg', 'no1395.jpg', 'no1396.jpg', 'no1397.jpg', 'no1398.jpg', 'no1399.jpg', 'No14.jpg', 'no140.jpg', 'no1400.jpg', 'no1401.jpg', 'no1402.jpg', 'no1403.jpg', 'no1404.jpg', 'no1405.jpg', 'no1406.jpg', 'no1407.jpg', 'no1408.jpg', 'no1409.jpg', 'no141.jpg', 'no1410.jpg', 'no1411.jpg', 'no1412.jpg', 'no1413.jpg', 'no1414.jpg', 'no1415.jpg', 'no1416.jpg', 'no1417.jpg', 'no1418.jpg', 'no1419.jpg', 'no142.jpg', 'no1420.jpg', 'no1421.jpg', 'no1422.jpg', 'no1423.jpg', 'no1424.jpg', 'no1425.jpg', 'no1426.jpg', 'no1427.jpg', 'no1428.jpg', 'no1429.jpg', 'no143.jpg', 'no1430.jpg', 'no1431.jpg', 'no1432.jpg', 'no1433.jpg', 'no1434.jpg', 'no1435.jpg', 'no1436.jpg', 'no1437.jpg', 'no1438.jpg', 'no1439.jpg', 'no144.jpg', 'no1440.jpg', 'no1441.jpg', 'no1442.jpg', 'no1443.jpg', 'no1444.jpg', 'no1445.jpg', 'no1446.jpg', 'no1447.jpg', 'no1448.jpg', 'no1449.jpg', 'no145.jpg', 'no1450.jpg', 'no1451.jpg', 'no1452.jpg', 'no1453.jpg', 'no1454.jpg', 'no1455.jpg', 'no1456.jpg', 'no1457.jpg', 'no1458.jpg', 'no1459.jpg', 'no146.jpg', 'no1460.jpg', 'no1461.jpg', 'no1462.jpg', 'no1463.jpg', 'no1464.jpg', 'no1465.jpg', 'no1466.jpg', 'no1467.jpg', 'no1468.jpg', 'no1469.jpg', 'no147.jpg', 'no1470.jpg', 'no1471.jpg', 'no1472.jpg', 'no1473.jpg', 'no1474.jpg', 'no1475.jpg', 'no1476.jpg', 'no1477.jpg', 'no1478.jpg', 'no1479.jpg', 'no148.jpg', 'no1480.jpg', 'no1481.jpg', 'no1482.jpg', 'no1483.jpg', 'no1484.jpg', 'no1485.jpg', 'no1486.jpg', 'no1487.jpg', 'no1488.jpg', 'no1489.jpg', 'no149.jpg', 'no1490.jpg', 'no1491.jpg', 'no1492.jpg', 'no1493.jpg', 'no1494.jpg', 'no1495.jpg', 'no1496.jpg', 'no1497.jpg', 'no1498.jpg', 'no1499.jpg', 'No15.jpg', 'no150.jpg', 'no151.jpg', 'no152.jpg', 'no153.jpg', 'no154.jpg', 'no155.jpg', 'no156.jpg', 'no157.jpg', 'no158.jpg', 'no159.jpg', 'no16.jpg', 'no160.jpg', 'no161.jpg', 'no162.jpg', 'no163.jpg', 'no164.jpg', 'no165.jpg', 'no166.jpg', 'no167.jpg', 'no168.jpg', 'no169.jpg', 'No17.jpg', 'no170.jpg', 'no171.jpg', 'no172.jpg', 'no173.jpg', 'no174.jpg', 'no175.jpg', 'no176.jpg', 'no177.jpg', 'no178.jpg', 'no179.jpg', 'No18.jpg', 'no180.jpg', 'no181.jpg', 'no182.jpg', 'no183.jpg', 'no184.jpg', 'no185.jpg', 'no186.jpg', 'no187.jpg', 'no188.jpg', 'no189.jpg', 'No19.jpg', 'no190.jpg', 'no191.jpg', 'no192.jpg', 'no193.jpg', 'no194.jpg', 'no195.jpg', 'no196.jpg', 'no197.jpg', 'no198.jpg', 'no199.jpg', 'no2.jpg', 'no20.jpg', 'no200.jpg', 'no201.jpg', 'no202.jpg', 'no203.jpg', 'no204.jpg', 'no205.jpg', 'no206.jpg', 'no207.jpg', 'no208.jpg', 'no209.jpg', 'no21.jpg', 'no210.jpg', 'no211.jpg', 'no212.jpg', 'no213.jpg', 'no214.jpg', 'no215.jpg', 'no216.jpg', 'no217.jpg', 'no218.jpg', 'no219.jpg', 'no22.jpg', 'no220.jpg', 'no221.jpg', 'no222.jpg', 'no223.jpg', 'no224.jpg', 'no225.jpg', 'no226.jpg', 'no227.jpg', 'no228.jpg', 'no229.jpg', 'no23.jpg', 'no230.jpg', 'no231.jpg', 'no232.jpg', 'no233.jpg', 'no234.jpg', 'no235.jpg', 'no236.jpg', 'no237.jpg', 'no238.jpg', 'no239.jpg', 'no24.jpg', 'no240.jpg', 'no241.jpg', 'no242.jpg', 'no243.jpg', 'no244.jpg', 'no245.jpg', 'no246.jpg', 'no247.jpg', 'no248.jpg', 'no249.jpg', 'no25.jpg', 'no250.jpg', 'no251.jpg', 'no252.jpg', 'no253.jpg', 'no254.jpg', 'no255.jpg', 'no256.jpg', 'no257.jpg', 'no258.jpg', 'no259.jpg', 'no26.jpg', 'no260.jpg', 'no261.jpg', 'no262.jpg', 'no263.jpg', 'no264.jpg', 'no265.jpg', 'no266.jpg', 'no267.jpg', 'no268.jpg', 'no269.jpg', 'no27.jpg', 'no270.jpg', 'no271.jpg', 'no272.jpg', 'no273.jpg', 'no274.jpg', 'no275.jpg', 'no276.jpg', 'no277.jpg', 'no278.jpg', 'no279.jpg', 'no28.jpg', 'no280.jpg', 'no281.jpg', 'no282.jpg', 'no283.jpg', 'no284.jpg', 'no285.jpg', 'no286.jpg', 'no287.jpg', 'no288.jpg', 'no289.jpg', 'no29.jpg', 'no290.jpg', 'no291.jpg', 'no292.jpg', 'no293.jpg', 'no294.jpg', 'no295.jpg', 'no296.jpg', 'no297.jpg', 'no298.jpg', 'no299.jpg', 'no3.jpg', 'no30.jpg', 'no300.jpg', 'no301.jpg', 'no302.jpg', 'no303.jpg', 'no304.jpg', 'no305.jpg', 'no306.jpg', 'no307.jpg', 'no308.jpg', 'no309.jpg', 'no31.jpg', 'no310.jpg', 'no311.jpg', 'no312.jpg', 'no313.jpg', 'no314.jpg', 'no315.jpg', 'no316.jpg', 'no317.jpg', 'no318.jpg', 'no319.jpg', 'no32.jpg', 'no320.jpg', 'no321.jpg', 'no322.jpg', 'no323.jpg', 'no324.jpg', 'no325.jpg', 'no326.jpg', 'no327.jpg', 'no328.jpg', 'no329.jpg', 'no33.jpg', 'no330.jpg', 'no331.jpg', 'no332.jpg', 'no333.jpg', 'no334.jpg', 'no335.jpg', 'no336.jpg', 'no337.jpg', 'no338.jpg', 'no339.jpg', 'no34.jpg', 'no340.jpg', 'no341.jpg', 'no342.jpg', 'no343.jpg', 'no344.jpg', 'no345.jpg', 'no346.jpg', 'no347.jpg', 'no348.jpg', 'no349.jpg', 'no35.jpg', 'no350.jpg', 'no351.jpg', 'no352.jpg', 'no353.jpg', 'no354.jpg', 'no355.jpg', 'no356.jpg', 'no357.jpg', 'no358.jpg', 'no359.jpg', 'no36.jpg', 'no360.jpg', 'no361.jpg', 'no362.jpg', 'no363.jpg', 'no364.jpg', 'no365.jpg', 'no366.jpg', 'no367.jpg', 'no368.jpg', 'no369.jpg', 'no37.jpg', 'no370.jpg', 'no371.jpg', 'no372.jpg', 'no373.jpg', 'no374.jpg', 'no375.jpg', 'no376.jpg', 'no377.jpg', 'no378.jpg', 'no379.jpg', 'no38.jpg', 'no380.jpg', 'no381.jpg', 'no382.jpg', 'no383.jpg', 'no384.jpg', 'no385.jpg', 'no386.jpg', 'no387.jpg', 'no388.jpg', 'no389.jpg', 'no39.jpg', 'no390.jpg', 'no391.jpg', 'no392.jpg', 'no393.jpg', 'no394.jpg', 'no395.jpg', 'no396.jpg', 'no397.jpg', 'no398.jpg', 'no399.jpg', 'no4.jpg', 'no40.jpg', 'no400.jpg', 'no401.jpg', 'no402.jpg', 'no403.jpg', 'no404.jpg', 'no405.jpg', 'no406.jpg', 'no407.jpg', 'no408.jpg', 'no409.jpg', 'no41.jpg', 'no410.jpg', 'no411.jpg', 'no412.jpg', 'no413.jpg', 'no414.jpg', 'no415.jpg', 'no416.jpg', 'no417.jpg', 'no418.jpg', 'no419.jpg', 'no42.jpg', 'no420.jpg', 'no421.jpg', 'no422.jpg', 'no423.jpg', 'no424.jpg', 'no425.jpg', 'no426.jpg', 'no427.jpg', 'no428.jpg', 'no429.jpg', 'no43.jpg', 'no430.jpg', 'no431.jpg', 'no432.jpg', 'no433.jpg', 'no434.jpg', 'no435.jpg', 'no436.jpg', 'no437.jpg', 'no438.jpg', 'no439.jpg', 'no44.jpg', 'no440.jpg', 'no441.jpg', 'no442.jpg', 'no443.jpg', 'no444.jpg', 'no445.jpg', 'no446.jpg', 'no447.jpg', 'no448.jpg', 'no449.jpg', 'no45.jpg', 'no450.jpg', 'no451.jpg', 'no452.jpg', 'no453.jpg', 'no454.jpg', 'no455.jpg', 'no456.jpg', 'no457.jpg', 'no458.jpg', 'no459.jpg', 'no46.jpg', 'no460.jpg', 'no461.jpg', 'no462.jpg', 'no463.jpg', 'no464.jpg', 'no465.jpg', 'no466.jpg', 'no467.jpg', 'no468.jpg', 'no469.jpg', 'no47.jpg', 'no470.jpg', 'no471.jpg', 'no472.jpg', 'no473.jpg', 'no474.jpg', 'no475.jpg', 'no476.jpg', 'no477.jpg', 'no478.jpg', 'no479.jpg', 'no48.jpg', 'no480.jpg', 'no481.jpg', 'no482.jpg', 'no483.jpg', 'no484.jpg', 'no485.jpg', 'no486.jpg', 'no487.jpg', 'no488.jpg', 'no489.jpg', 'no49.jpg', 'no490.jpg', 'no491.jpg', 'no492.jpg', 'no493.jpg', 'no494.jpg', 'no495.jpg', 'no496.jpg', 'no497.jpg', 'no498.jpg', 'no499.jpg', 'no5.jpg', 'no50.jpg', 'no500.jpg', 'no501.jpg', 'no502.jpg', 'no503.jpg', 'no504.jpg', 'no505.jpg', 'no506.jpg', 'no507.jpg', 'no508.jpg', 'no509.jpg', 'no51.jpg', 'no510.jpg', 'no511.jpg', 'no512.jpg', 'no513.jpg', 'no514.jpg', 'no515.jpg', 'no516.jpg', 'no517.jpg', 'no518.jpg', 'no519.jpg', 'no52.jpg', 'no520.jpg', 'no521.jpg', 'no522.jpg', 'no523.jpg', 'no524.jpg', 'no525.jpg', 'no526.jpg', 'no527.jpg', 'no528.jpg', 'no529.jpg', 'no53.jpg', 'no530.jpg', 'no531.jpg', 'no532.jpg', 'no533.jpg', 'no534.jpg', 'no535.jpg', 'no536.jpg', 'no537.jpg', 'no538.jpg', 'no539.jpg', 'no54.jpg', 'no540.jpg', 'no541.jpg', 'no542.jpg', 'no543.jpg', 'no544.jpg', 'no545.jpg', 'no546.jpg', 'no547.jpg', 'no548.jpg', 'no549.jpg', 'no55.jpg', 'no550.jpg', 'no551.jpg', 'no552.jpg', 'no553.jpg', 'no554.jpg', 'no555.jpg', 'no556.jpg', 'no557.jpg', 'no558.jpg', 'no559.jpg', 'no56.jpg', 'no560.jpg', 'no561.jpg', 'no562.jpg', 'no563.jpg', 'no564.jpg', 'no565.jpg', 'no566.jpg', 'no567.jpg', 'no568.jpg', 'no569.jpg', 'no57.jpg', 'no570.jpg', 'no571.jpg', 'no572.jpg', 'no573.jpg', 'no574.jpg', 'no575.jpg', 'no576.jpg', 'no577.jpg', 'no578.jpg', 'no579.jpg', 'no58.jpg', 'no580.jpg', 'no581.jpg', 'no582.jpg', 'no583.jpg', 'no584.jpg', 'no585.jpg', 'no586.jpg', 'no587.jpg', 'no588.jpg', 'no589.jpg', 'no59.jpg', 'no590.jpg', 'no591.jpg', 'no592.jpg', 'no593.jpg', 'no594.jpg', 'no595.jpg', 'no596.jpg', 'no597.jpg', 'no598.jpg', 'no599.jpg', 'no6.jpg', 'no60.jpg', 'no600.jpg', 'no601.jpg', 'no602.jpg', 'no603.jpg', 'no604.jpg', 'no605.jpg', 'no606.jpg', 'no607.jpg', 'no608.jpg', 'no609.jpg', 'no61.jpg', 'no610.jpg', 'no611.jpg', 'no612.jpg', 'no613.jpg', 'no614.jpg', 'no615.jpg', 'no616.jpg', 'no617.jpg', 'no618.jpg', 'no619.jpg', 'no62.jpg', 'no620.jpg', 'no621.jpg', 'no622.jpg', 'no623.jpg', 'no624.jpg', 'no625.jpg', 'no626.jpg', 'no627.jpg', 'no628.jpg', 'no629.jpg', 'no63.jpg', 'no630.jpg', 'no631.jpg', 'no632.jpg', 'no633.jpg', 'no634.jpg', 'no635.jpg', 'no636.jpg', 'no637.jpg', 'no638.jpg', 'no639.jpg', 'no64.jpg', 'no640.jpg', 'no641.jpg', 'no642.jpg', 'no643.jpg', 'no644.jpg', 'no645.jpg', 'no646.jpg', 'no647.jpg', 'no648.jpg', 'no649.jpg', 'no65.jpg', 'no650.jpg', 'no651.jpg', 'no652.jpg', 'no653.jpg', 'no654.jpg', 'no655.jpg', 'no656.jpg', 'no657.jpg', 'no658.jpg', 'no659.jpg', 'no66.jpg', 'no660.jpg', 'no661.jpg', 'no662.jpg', 'no663.jpg', 'no664.jpg', 'no665.jpg', 'no666.jpg', 'no667.jpg', 'no668.jpg', 'no669.jpg', 'no67.jpg', 'no670.jpg', 'no671.jpg', 'no672.jpg', 'no673.jpg', 'no674.jpg', 'no675.jpg', 'no676.jpg', 'no677.jpg', 'no678.jpg', 'no679.jpg', 'no68.jpg', 'no680.jpg', 'no681.jpg', 'no682.jpg', 'no683.jpg', 'no684.jpg', 'no685.jpg', 'no686.jpg', 'no687.jpg', 'no688.jpg', 'no689.jpg', 'no69.jpg', 'no690.jpg', 'no691.jpg', 'no692.jpg', 'no693.jpg', 'no694.jpg', 'no695.jpg', 'no696.jpg', 'no697.jpg', 'no698.jpg', 'no699.jpg', 'no7.jpg', 'no70.jpg', 'no700.jpg', 'no701.jpg', 'no702.jpg', 'no703.jpg', 'no704.jpg', 'no705.jpg', 'no706.jpg', 'no707.jpg', 'no708.jpg', 'no709.jpg', 'no71.jpg', 'no710.jpg', 'no711.jpg', 'no712.jpg', 'no713.jpg', 'no714.jpg', 'no715.jpg', 'no716.jpg', 'no717.jpg', 'no718.jpg', 'no719.jpg', 'no72.jpg', 'no720.jpg', 'no721.jpg', 'no722.jpg', 'no723.jpg', 'no724.jpg', 'no725.jpg', 'no726.jpg', 'no727.jpg', 'no728.jpg', 'no729.jpg', 'no73.jpg', 'no730.jpg', 'no731.jpg', 'no732.jpg', 'no733.jpg', 'no734.jpg', 'no735.jpg', 'no736.jpg', 'no737.jpg', 'no738.jpg', 'no739.jpg', 'no74.jpg', 'no740.jpg', 'no741.jpg', 'no742.jpg', 'no743.jpg', 'no744.jpg', 'no745.jpg', 'no746.jpg', 'no747.jpg', 'no748.jpg', 'no749.jpg', 'no75.jpg', 'no750.jpg', 'no751.jpg', 'no752.jpg', 'no753.jpg', 'no754.jpg', 'no755.jpg', 'no756.jpg', 'no757.jpg', 'no758.jpg', 'no759.jpg', 'no76.jpg', 'no760.jpg', 'no761.jpg', 'no762.jpg', 'no763.jpg', 'no764.jpg', 'no765.jpg', 'no766.jpg', 'no767.jpg', 'no768.jpg', 'no769.jpg', 'no77.jpg', 'no770.jpg', 'no771.jpg', 'no772.jpg', 'no773.jpg', 'no774.jpg', 'no775.jpg', 'no776.jpg', 'no777.jpg', 'no778.jpg', 'no779.jpg', 'no78.jpg', 'no780.jpg', 'no781.jpg', 'no782.jpg', 'no783.jpg', 'no784.jpg', 'no785.jpg', 'no786.jpg', 'no787.jpg', 'no788.jpg', 'no789.jpg', 'no79.jpg', 'no790.jpg', 'no791.jpg', 'no792.jpg', 'no793.jpg', 'no794.jpg', 'no795.jpg', 'no796.jpg', 'no797.jpg', 'no798.jpg', 'no799.jpg', 'no8.jpg', 'no80.jpg', 'no800.jpg', 'no801.jpg', 'no802.jpg', 'no803.jpg', 'no804.jpg', 'no805.jpg', 'no806.jpg', 'no807.jpg', 'no808.jpg', 'no809.jpg', 'no81.jpg', 'no810.jpg', 'no811.jpg', 'no812.jpg', 'no813.jpg', 'no814.jpg', 'no815.jpg', 'no816.jpg', 'no817.jpg', 'no818.jpg', 'no819.jpg', 'no82.jpg', 'no820.jpg', 'no821.jpg', 'no822.jpg', 'no823.jpg', 'no824.jpg', 'no825.jpg', 'no826.jpg', 'no827.jpg', 'no828.jpg', 'no829.jpg', 'no83.jpg', 'no830.jpg', 'no831.jpg', 'no832.jpg', 'no833.jpg', 'no834.jpg', 'no835.jpg', 'no836.jpg', 'no837.jpg', 'no838.jpg', 'no839.jpg', 'no84.jpg', 'no840.jpg', 'no841.jpg', 'no842.jpg', 'no843.jpg', 'no844.jpg', 'no845.jpg', 'no846.jpg', 'no847.jpg', 'no848.jpg', 'no849.jpg', 'no85.jpg', 'no850.jpg', 'no851.jpg', 'no852.jpg', 'no853.jpg', 'no854.jpg', 'no855.jpg', 'no856.jpg', 'no857.jpg', 'no858.jpg', 'no859.jpg', 'no86.jpg', 'no860.jpg', 'no861.jpg', 'no862.jpg', 'no863.jpg', 'no864.jpg', 'no865.jpg', 'no866.jpg', 'no867.jpg', 'no868.jpg', 'no869.jpg', 'no87.jpg', 'no870.jpg', 'no871.jpg', 'no872.jpg', 'no873.jpg', 'no874.jpg', 'no875.jpg', 'no876.jpg', 'no877.jpg', 'no878.jpg', 'no879.jpg', 'no88.jpg', 'no880.jpg', 'no881.jpg', 'no882.jpg', 'no883.jpg', 'no884.jpg', 'no885.jpg', 'no886.jpg', 'no887.jpg', 'no888.jpg', 'no889.jpg', 'no89.jpg', 'no890.jpg', 'no891.jpg', 'no892.jpg', 'no893.jpg', 'no894.jpg', 'no895.jpg', 'no896.jpg', 'no897.jpg', 'no898.jpg', 'no899.jpg', 'no9.jpg', 'no90.jpg', 'no900.jpg', 'no901.jpg', 'no902.jpg', 'no903.jpg', 'no904.jpg', 'no905.jpg', 'no906.jpg', 'no907.jpg', 'no908.jpg', 'no909.jpg', 'no91.jpg', 'no910.jpg', 'no911.jpg', 'no912.jpg', 'no913.jpg', 'no914.jpg', 'no915.jpg', 'no916.jpg', 'no917.jpg', 'no918.jpg', 'no919.jpg', 'no92.jpg', 'no920.jpg', 'no921.jpg', 'no922.jpg', 'no923.jpg', 'no924.jpg', 'no925.jpg', 'no926.jpg', 'no927.jpg', 'no928.jpg', 'no929.jpg', 'no93.jpg', 'no930.jpg', 'no931.jpg', 'no932.jpg', 'no933.jpg', 'no934.jpg', 'no935.jpg', 'no936.jpg', 'no937.jpg', 'no938.jpg', 'no939.jpg', 'no94.jpg', 'no940.jpg', 'no941.jpg', 'no942.jpg', 'no943.jpg', 'no944.jpg', 'no945.jpg', 'no946.jpg', 'no947.jpg', 'no948.jpg', 'no949.jpg', 'no95.jpg', 'no950.jpg', 'no951.jpg', 'no952.jpg', 'no953.jpg', 'no954.jpg', 'no955.jpg', 'no956.jpg', 'no957.jpg', 'no958.jpg', 'no959.jpg', 'no96.jpg', 'no960.jpg', 'no961.jpg', 'no962.jpg', 'no963.jpg', 'no964.jpg', 'no965.jpg', 'no966.jpg', 'no967.jpg', 'no968.jpg', 'no969.jpg', 'no97.jpg', 'no970.jpg', 'no971.jpg', 'no972.jpg', 'no973.jpg', 'no974.jpg', 'no975.jpg', 'no976.jpg', 'no977.jpg', 'no978.jpg', 'no979.jpg', 'no98.jpg', 'no980.jpg', 'no981.jpg', 'no982.jpg', 'no983.jpg', 'no984.jpg', 'no985.jpg', 'no986.jpg', 'no987.jpg', 'no988.jpg', 'no989.jpg', 'no99.jpg', 'no990.jpg', 'no991.jpg', 'no992.jpg', 'no993.jpg', 'no994.jpg', 'no995.jpg', 'no996.jpg', 'no997.jpg', 'no998.jpg', 'no999.jpg']\n"
     ]
    }
   ],
   "source": [
    "image_dir = r'C:\\Users\\ANUJ GUPTA\\OneDrive\\Desktop\\CodeClash\\Br35H\\Datasets/'\n",
    "\n",
    "no_tumor_images = os.listdir(image_dir+'no/')\n",
    "yes_tumor_images = os.listdir(image_dir+'yes/')\n",
    "print(no_tumor_images)\n",
    "\n",
    "dataset = []\n",
    "label = []\n",
    "#INPUT_SIZE=64\n",
    "\n",
    "\n",
    "# path = 'no0.jpg'\n",
    "# print(path.split('.')[1])\n",
    "\n",
    "\n",
    "for i,img_name in enumerate(no_tumor_images):\n",
    "    if(img_name.split('.')[1] == 'jpg'):\n",
    "        image = cv2.imread(image_dir+'no/'+img_name)\n",
    "        image = Image.fromarray(image)\n",
    "        image = image.resize((64,64))\n",
    "\n",
    "        dataset.append(np.array(image))\n",
    "        label.append(0)\n",
    "\n",
    "for i,img_name in enumerate(yes_tumor_images):\n",
    "    if(img_name.split('.')[1] == 'jpg'):\n",
    "        image = cv2.imread(image_dir+'yes/'+img_name)\n",
    "        image = Image.fromarray(image)\n",
    "        image = image.resize((64,64))\n",
    "\n",
    "        dataset.append(np.array(image))\n",
    "        label.append(1)\n",
    "\n",
    "dataset=np.array(dataset)\n",
    "label=np.array(label)"
   ]
  },
  {
   "cell_type": "code",
   "execution_count": 5,
   "metadata": {},
   "outputs": [
    {
     "name": "stdout",
     "output_type": "stream",
     "text": [
      "Epoch 1/10\n",
      "150/150 [==============================] - 7s 38ms/step - loss: 0.5582 - accuracy: 0.7237 - val_loss: 0.4675 - val_accuracy: 0.7833\n",
      "Epoch 2/10\n",
      "150/150 [==============================] - 6s 38ms/step - loss: 0.3950 - accuracy: 0.8338 - val_loss: 0.3665 - val_accuracy: 0.8250\n",
      "Epoch 3/10\n",
      "150/150 [==============================] - 7s 44ms/step - loss: 0.3022 - accuracy: 0.8833 - val_loss: 0.2566 - val_accuracy: 0.9017\n",
      "Epoch 4/10\n",
      "150/150 [==============================] - 9s 63ms/step - loss: 0.2192 - accuracy: 0.9196 - val_loss: 0.1825 - val_accuracy: 0.9317\n",
      "Epoch 5/10\n",
      "150/150 [==============================] - 8s 52ms/step - loss: 0.1537 - accuracy: 0.9454 - val_loss: 0.1180 - val_accuracy: 0.9633\n",
      "Epoch 6/10\n",
      "150/150 [==============================] - 8s 51ms/step - loss: 0.1000 - accuracy: 0.9683 - val_loss: 0.0928 - val_accuracy: 0.9683\n",
      "Epoch 7/10\n",
      "150/150 [==============================] - 8s 54ms/step - loss: 0.0731 - accuracy: 0.9767 - val_loss: 0.0627 - val_accuracy: 0.9783\n",
      "Epoch 8/10\n",
      "150/150 [==============================] - 8s 52ms/step - loss: 0.0449 - accuracy: 0.9858 - val_loss: 0.0643 - val_accuracy: 0.9767\n",
      "Epoch 9/10\n",
      "150/150 [==============================] - 9s 62ms/step - loss: 0.0356 - accuracy: 0.9883 - val_loss: 0.0564 - val_accuracy: 0.9817\n",
      "Epoch 10/10\n",
      "150/150 [==============================] - 10s 64ms/step - loss: 0.0162 - accuracy: 0.9962 - val_loss: 0.0847 - val_accuracy: 0.9783\n"
     ]
    },
    {
     "name": "stderr",
     "output_type": "stream",
     "text": [
      "c:\\Users\\ANUJ GUPTA\\AppData\\Local\\Programs\\Python\\Python311\\Lib\\site-packages\\keras\\src\\engine\\training.py:3000: UserWarning: You are saving your model as an HDF5 file via `model.save()`. This file format is considered legacy. We recommend using instead the native Keras format, e.g. `model.save('my_model.keras')`.\n",
      "  saving_api.save_model(\n"
     ]
    }
   ],
   "source": [
    "x_train,x_test,y_train,y_test=train_test_split(dataset,label,test_size=0.2,random_state=0)\n",
    "# Reshape  = (n, image_width , image_height , n_channel)\n",
    "\n",
    "# print(x_train.shape)\n",
    "# print(y_train.shape)\n",
    "# print(x_test.shape)\n",
    "# print(y_test.shape)\n",
    "\n",
    "x_train=normalize(x_train,axis=1)\n",
    "x_test=normalize(x_test,axis=1)\n",
    "\n",
    "y_train = to_categorical(y_train,num_classes=2)\n",
    "y_test = to_categorical(y_test,num_classes=2)\n",
    "\n",
    "# model Building\n",
    "\n",
    "model=Sequential()\n",
    "model.add(Conv2D(32,(3,3),input_shape=(64,64,3)))\n",
    "model.add(Activation('relu'))\n",
    "model.add(MaxPooling2D(pool_size=(2,2)))\n",
    "\n",
    "\n",
    "model.add(Conv2D(32,(3,3),kernel_initializer='he_uniform'))\n",
    "model.add(Activation('relu'))\n",
    "model.add(MaxPooling2D(pool_size=(2,2)))\n",
    "\n",
    "\n",
    "model.add(Conv2D(64,(3,3),kernel_initializer='he_uniform'))\n",
    "model.add(Activation('relu'))\n",
    "model.add(MaxPooling2D(pool_size=(2,2)))\n",
    "\n",
    "model.add(Flatten())\n",
    "model.add(Dense(64))\n",
    "model.add(Activation('relu'))\n",
    "model.add(Dropout(0.5))\n",
    "model.add(Dense(2))\n",
    "model.add(Activation('softmax'))\n",
    "model.compile(loss='categorical_crossentropy',optimizer='adam',metrics=['accuracy'])\n",
    "model.fit(x_train,y_train,batch_size=16,verbose=1,\n",
    "          epochs=10,\n",
    "          validation_data=(x_test,y_test),shuffle=False)\n",
    "\n",
    "model.save('BrainTumor10EpochsCategorical.h5')\n"
   ]
  }
 ],
 "metadata": {
  "kernelspec": {
   "display_name": "Python 3",
   "language": "python",
   "name": "python3"
  },
  "language_info": {
   "codemirror_mode": {
    "name": "ipython",
    "version": 3
   },
   "file_extension": ".py",
   "mimetype": "text/x-python",
   "name": "python",
   "nbconvert_exporter": "python",
   "pygments_lexer": "ipython3",
   "version": "3.11.5"
  }
 },
 "nbformat": 4,
 "nbformat_minor": 2
}
